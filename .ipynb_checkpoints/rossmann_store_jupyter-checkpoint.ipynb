{
 "cells": [
  {
   "cell_type": "markdown",
   "id": "54f5c3ad",
   "metadata": {
    "heading_collapsed": true
   },
   "source": [
    "## 1.0 Imports"
   ]
  },
  {
   "cell_type": "code",
   "execution_count": 74,
   "id": "80fffbd0",
   "metadata": {
    "hidden": true
   },
   "outputs": [],
   "source": [
    "import pandas as pd\n",
    "import inflection\n",
    "from IPython.display import Image\n",
    "import datetime"
   ]
  },
  {
   "cell_type": "markdown",
   "id": "1318b80e",
   "metadata": {
    "hidden": true
   },
   "source": [
    "### 1.1 Funções"
   ]
  },
  {
   "cell_type": "code",
   "execution_count": null,
   "id": "ad62d15a",
   "metadata": {
    "hidden": true
   },
   "outputs": [],
   "source": []
  },
  {
   "cell_type": "markdown",
   "id": "5ea60c1a",
   "metadata": {
    "heading_collapsed": true
   },
   "source": [
    "## 2.0 Carregamento dos dados"
   ]
  },
  {
   "cell_type": "code",
   "execution_count": 20,
   "id": "291679aa",
   "metadata": {
    "hidden": true
   },
   "outputs": [],
   "source": [
    "df_store_raw = pd.read_csv(\"data/store.csv\", low_memory=False)\n",
    "df_test_raw = pd.read_csv(\"data/test.csv\", low_memory=False)\n",
    "df_train_raw = pd.read_csv(\"data/train.csv\", low_memory=False)\n",
    "df_sample_raw = pd.read_csv(\"data/sample_submission.csv\", low_memory=False)"
   ]
  },
  {
   "cell_type": "code",
   "execution_count": 21,
   "id": "c5482680",
   "metadata": {
    "hidden": true
   },
   "outputs": [],
   "source": [
    "df_raw = df_train_raw.merge(df_store_raw, how='left', on='Store')"
   ]
  },
  {
   "cell_type": "code",
   "execution_count": 22,
   "id": "fea20082",
   "metadata": {
    "hidden": true,
    "scrolled": true
   },
   "outputs": [
    {
     "data": {
      "text/html": [
       "<div>\n",
       "<style scoped>\n",
       "    .dataframe tbody tr th:only-of-type {\n",
       "        vertical-align: middle;\n",
       "    }\n",
       "\n",
       "    .dataframe tbody tr th {\n",
       "        vertical-align: top;\n",
       "    }\n",
       "\n",
       "    .dataframe thead th {\n",
       "        text-align: right;\n",
       "    }\n",
       "</style>\n",
       "<table border=\"1\" class=\"dataframe\">\n",
       "  <thead>\n",
       "    <tr style=\"text-align: right;\">\n",
       "      <th></th>\n",
       "      <th>Store</th>\n",
       "      <th>DayOfWeek</th>\n",
       "      <th>Date</th>\n",
       "      <th>Sales</th>\n",
       "      <th>Customers</th>\n",
       "      <th>Open</th>\n",
       "      <th>Promo</th>\n",
       "      <th>StateHoliday</th>\n",
       "      <th>SchoolHoliday</th>\n",
       "      <th>StoreType</th>\n",
       "      <th>Assortment</th>\n",
       "      <th>CompetitionDistance</th>\n",
       "      <th>CompetitionOpenSinceMonth</th>\n",
       "      <th>CompetitionOpenSinceYear</th>\n",
       "      <th>Promo2</th>\n",
       "      <th>Promo2SinceWeek</th>\n",
       "      <th>Promo2SinceYear</th>\n",
       "      <th>PromoInterval</th>\n",
       "    </tr>\n",
       "  </thead>\n",
       "  <tbody>\n",
       "    <tr>\n",
       "      <th>0</th>\n",
       "      <td>1</td>\n",
       "      <td>5</td>\n",
       "      <td>2015-07-31</td>\n",
       "      <td>5263</td>\n",
       "      <td>555</td>\n",
       "      <td>1</td>\n",
       "      <td>1</td>\n",
       "      <td>0</td>\n",
       "      <td>1</td>\n",
       "      <td>c</td>\n",
       "      <td>a</td>\n",
       "      <td>1270.0</td>\n",
       "      <td>9.0</td>\n",
       "      <td>2008.0</td>\n",
       "      <td>0</td>\n",
       "      <td>NaN</td>\n",
       "      <td>NaN</td>\n",
       "      <td>NaN</td>\n",
       "    </tr>\n",
       "    <tr>\n",
       "      <th>1</th>\n",
       "      <td>2</td>\n",
       "      <td>5</td>\n",
       "      <td>2015-07-31</td>\n",
       "      <td>6064</td>\n",
       "      <td>625</td>\n",
       "      <td>1</td>\n",
       "      <td>1</td>\n",
       "      <td>0</td>\n",
       "      <td>1</td>\n",
       "      <td>a</td>\n",
       "      <td>a</td>\n",
       "      <td>570.0</td>\n",
       "      <td>11.0</td>\n",
       "      <td>2007.0</td>\n",
       "      <td>1</td>\n",
       "      <td>13.0</td>\n",
       "      <td>2010.0</td>\n",
       "      <td>Jan,Apr,Jul,Oct</td>\n",
       "    </tr>\n",
       "    <tr>\n",
       "      <th>2</th>\n",
       "      <td>3</td>\n",
       "      <td>5</td>\n",
       "      <td>2015-07-31</td>\n",
       "      <td>8314</td>\n",
       "      <td>821</td>\n",
       "      <td>1</td>\n",
       "      <td>1</td>\n",
       "      <td>0</td>\n",
       "      <td>1</td>\n",
       "      <td>a</td>\n",
       "      <td>a</td>\n",
       "      <td>14130.0</td>\n",
       "      <td>12.0</td>\n",
       "      <td>2006.0</td>\n",
       "      <td>1</td>\n",
       "      <td>14.0</td>\n",
       "      <td>2011.0</td>\n",
       "      <td>Jan,Apr,Jul,Oct</td>\n",
       "    </tr>\n",
       "    <tr>\n",
       "      <th>3</th>\n",
       "      <td>4</td>\n",
       "      <td>5</td>\n",
       "      <td>2015-07-31</td>\n",
       "      <td>13995</td>\n",
       "      <td>1498</td>\n",
       "      <td>1</td>\n",
       "      <td>1</td>\n",
       "      <td>0</td>\n",
       "      <td>1</td>\n",
       "      <td>c</td>\n",
       "      <td>c</td>\n",
       "      <td>620.0</td>\n",
       "      <td>9.0</td>\n",
       "      <td>2009.0</td>\n",
       "      <td>0</td>\n",
       "      <td>NaN</td>\n",
       "      <td>NaN</td>\n",
       "      <td>NaN</td>\n",
       "    </tr>\n",
       "    <tr>\n",
       "      <th>4</th>\n",
       "      <td>5</td>\n",
       "      <td>5</td>\n",
       "      <td>2015-07-31</td>\n",
       "      <td>4822</td>\n",
       "      <td>559</td>\n",
       "      <td>1</td>\n",
       "      <td>1</td>\n",
       "      <td>0</td>\n",
       "      <td>1</td>\n",
       "      <td>a</td>\n",
       "      <td>a</td>\n",
       "      <td>29910.0</td>\n",
       "      <td>4.0</td>\n",
       "      <td>2015.0</td>\n",
       "      <td>0</td>\n",
       "      <td>NaN</td>\n",
       "      <td>NaN</td>\n",
       "      <td>NaN</td>\n",
       "    </tr>\n",
       "    <tr>\n",
       "      <th>...</th>\n",
       "      <td>...</td>\n",
       "      <td>...</td>\n",
       "      <td>...</td>\n",
       "      <td>...</td>\n",
       "      <td>...</td>\n",
       "      <td>...</td>\n",
       "      <td>...</td>\n",
       "      <td>...</td>\n",
       "      <td>...</td>\n",
       "      <td>...</td>\n",
       "      <td>...</td>\n",
       "      <td>...</td>\n",
       "      <td>...</td>\n",
       "      <td>...</td>\n",
       "      <td>...</td>\n",
       "      <td>...</td>\n",
       "      <td>...</td>\n",
       "      <td>...</td>\n",
       "    </tr>\n",
       "    <tr>\n",
       "      <th>1017204</th>\n",
       "      <td>1111</td>\n",
       "      <td>2</td>\n",
       "      <td>2013-01-01</td>\n",
       "      <td>0</td>\n",
       "      <td>0</td>\n",
       "      <td>0</td>\n",
       "      <td>0</td>\n",
       "      <td>a</td>\n",
       "      <td>1</td>\n",
       "      <td>a</td>\n",
       "      <td>a</td>\n",
       "      <td>1900.0</td>\n",
       "      <td>6.0</td>\n",
       "      <td>2014.0</td>\n",
       "      <td>1</td>\n",
       "      <td>31.0</td>\n",
       "      <td>2013.0</td>\n",
       "      <td>Jan,Apr,Jul,Oct</td>\n",
       "    </tr>\n",
       "    <tr>\n",
       "      <th>1017205</th>\n",
       "      <td>1112</td>\n",
       "      <td>2</td>\n",
       "      <td>2013-01-01</td>\n",
       "      <td>0</td>\n",
       "      <td>0</td>\n",
       "      <td>0</td>\n",
       "      <td>0</td>\n",
       "      <td>a</td>\n",
       "      <td>1</td>\n",
       "      <td>c</td>\n",
       "      <td>c</td>\n",
       "      <td>1880.0</td>\n",
       "      <td>4.0</td>\n",
       "      <td>2006.0</td>\n",
       "      <td>0</td>\n",
       "      <td>NaN</td>\n",
       "      <td>NaN</td>\n",
       "      <td>NaN</td>\n",
       "    </tr>\n",
       "    <tr>\n",
       "      <th>1017206</th>\n",
       "      <td>1113</td>\n",
       "      <td>2</td>\n",
       "      <td>2013-01-01</td>\n",
       "      <td>0</td>\n",
       "      <td>0</td>\n",
       "      <td>0</td>\n",
       "      <td>0</td>\n",
       "      <td>a</td>\n",
       "      <td>1</td>\n",
       "      <td>a</td>\n",
       "      <td>c</td>\n",
       "      <td>9260.0</td>\n",
       "      <td>NaN</td>\n",
       "      <td>NaN</td>\n",
       "      <td>0</td>\n",
       "      <td>NaN</td>\n",
       "      <td>NaN</td>\n",
       "      <td>NaN</td>\n",
       "    </tr>\n",
       "    <tr>\n",
       "      <th>1017207</th>\n",
       "      <td>1114</td>\n",
       "      <td>2</td>\n",
       "      <td>2013-01-01</td>\n",
       "      <td>0</td>\n",
       "      <td>0</td>\n",
       "      <td>0</td>\n",
       "      <td>0</td>\n",
       "      <td>a</td>\n",
       "      <td>1</td>\n",
       "      <td>a</td>\n",
       "      <td>c</td>\n",
       "      <td>870.0</td>\n",
       "      <td>NaN</td>\n",
       "      <td>NaN</td>\n",
       "      <td>0</td>\n",
       "      <td>NaN</td>\n",
       "      <td>NaN</td>\n",
       "      <td>NaN</td>\n",
       "    </tr>\n",
       "    <tr>\n",
       "      <th>1017208</th>\n",
       "      <td>1115</td>\n",
       "      <td>2</td>\n",
       "      <td>2013-01-01</td>\n",
       "      <td>0</td>\n",
       "      <td>0</td>\n",
       "      <td>0</td>\n",
       "      <td>0</td>\n",
       "      <td>a</td>\n",
       "      <td>1</td>\n",
       "      <td>d</td>\n",
       "      <td>c</td>\n",
       "      <td>5350.0</td>\n",
       "      <td>NaN</td>\n",
       "      <td>NaN</td>\n",
       "      <td>1</td>\n",
       "      <td>22.0</td>\n",
       "      <td>2012.0</td>\n",
       "      <td>Mar,Jun,Sept,Dec</td>\n",
       "    </tr>\n",
       "  </tbody>\n",
       "</table>\n",
       "<p>1017209 rows × 18 columns</p>\n",
       "</div>"
      ],
      "text/plain": [
       "         Store  DayOfWeek        Date  Sales  Customers  Open  Promo  \\\n",
       "0            1          5  2015-07-31   5263        555     1      1   \n",
       "1            2          5  2015-07-31   6064        625     1      1   \n",
       "2            3          5  2015-07-31   8314        821     1      1   \n",
       "3            4          5  2015-07-31  13995       1498     1      1   \n",
       "4            5          5  2015-07-31   4822        559     1      1   \n",
       "...        ...        ...         ...    ...        ...   ...    ...   \n",
       "1017204   1111          2  2013-01-01      0          0     0      0   \n",
       "1017205   1112          2  2013-01-01      0          0     0      0   \n",
       "1017206   1113          2  2013-01-01      0          0     0      0   \n",
       "1017207   1114          2  2013-01-01      0          0     0      0   \n",
       "1017208   1115          2  2013-01-01      0          0     0      0   \n",
       "\n",
       "        StateHoliday  SchoolHoliday StoreType Assortment  CompetitionDistance  \\\n",
       "0                  0              1         c          a               1270.0   \n",
       "1                  0              1         a          a                570.0   \n",
       "2                  0              1         a          a              14130.0   \n",
       "3                  0              1         c          c                620.0   \n",
       "4                  0              1         a          a              29910.0   \n",
       "...              ...            ...       ...        ...                  ...   \n",
       "1017204            a              1         a          a               1900.0   \n",
       "1017205            a              1         c          c               1880.0   \n",
       "1017206            a              1         a          c               9260.0   \n",
       "1017207            a              1         a          c                870.0   \n",
       "1017208            a              1         d          c               5350.0   \n",
       "\n",
       "         CompetitionOpenSinceMonth  CompetitionOpenSinceYear  Promo2  \\\n",
       "0                              9.0                    2008.0       0   \n",
       "1                             11.0                    2007.0       1   \n",
       "2                             12.0                    2006.0       1   \n",
       "3                              9.0                    2009.0       0   \n",
       "4                              4.0                    2015.0       0   \n",
       "...                            ...                       ...     ...   \n",
       "1017204                        6.0                    2014.0       1   \n",
       "1017205                        4.0                    2006.0       0   \n",
       "1017206                        NaN                       NaN       0   \n",
       "1017207                        NaN                       NaN       0   \n",
       "1017208                        NaN                       NaN       1   \n",
       "\n",
       "         Promo2SinceWeek  Promo2SinceYear     PromoInterval  \n",
       "0                    NaN              NaN               NaN  \n",
       "1                   13.0           2010.0   Jan,Apr,Jul,Oct  \n",
       "2                   14.0           2011.0   Jan,Apr,Jul,Oct  \n",
       "3                    NaN              NaN               NaN  \n",
       "4                    NaN              NaN               NaN  \n",
       "...                  ...              ...               ...  \n",
       "1017204             31.0           2013.0   Jan,Apr,Jul,Oct  \n",
       "1017205              NaN              NaN               NaN  \n",
       "1017206              NaN              NaN               NaN  \n",
       "1017207              NaN              NaN               NaN  \n",
       "1017208             22.0           2012.0  Mar,Jun,Sept,Dec  \n",
       "\n",
       "[1017209 rows x 18 columns]"
      ]
     },
     "execution_count": 22,
     "metadata": {},
     "output_type": "execute_result"
    }
   ],
   "source": [
    "df_raw"
   ]
  },
  {
   "cell_type": "markdown",
   "id": "0c863ef9",
   "metadata": {
    "heading_collapsed": true
   },
   "source": [
    "## 3.0 Descrição de dados"
   ]
  },
  {
   "cell_type": "code",
   "execution_count": 42,
   "id": "b9c892d0",
   "metadata": {
    "hidden": true
   },
   "outputs": [],
   "source": [
    "df1 = df_raw.copy()"
   ]
  },
  {
   "cell_type": "markdown",
   "id": "3a3ffee6",
   "metadata": {
    "hidden": true
   },
   "source": [
    "### 3.1 Renomear Colunas"
   ]
  },
  {
   "cell_type": "code",
   "execution_count": 43,
   "id": "a459fac2",
   "metadata": {
    "hidden": true
   },
   "outputs": [
    {
     "data": {
      "text/plain": [
       "Index(['Store', 'DayOfWeek', 'Date', 'Sales', 'Customers', 'Open', 'Promo',\n",
       "       'StateHoliday', 'SchoolHoliday', 'StoreType', 'Assortment',\n",
       "       'CompetitionDistance', 'CompetitionOpenSinceMonth',\n",
       "       'CompetitionOpenSinceYear', 'Promo2', 'Promo2SinceWeek',\n",
       "       'Promo2SinceYear', 'PromoInterval'],\n",
       "      dtype='object')"
      ]
     },
     "execution_count": 43,
     "metadata": {},
     "output_type": "execute_result"
    }
   ],
   "source": [
    "df1.columns"
   ]
  },
  {
   "cell_type": "code",
   "execution_count": 44,
   "id": "1d446a1c",
   "metadata": {
    "hidden": true
   },
   "outputs": [],
   "source": [
    "old_cols = ['Store', 'DayOfWeek', 'Date', 'Sales', 'Customers', 'Open', 'Promo',\n",
    "           'StateHoliday', 'SchoolHoliday', 'StoreType', 'Assortment',\n",
    "           'CompetitionDistance', 'CompetitionOpenSinceMonth',\n",
    "           'CompetitionOpenSinceYear', 'Promo2', 'Promo2SinceWeek',\n",
    "           'Promo2SinceYear', 'PromoInterval']\n",
    "snakecase = lambda x:inflection.underscore(x)\n",
    "new_cols = list(map(snakecase, old_cols))\n",
    "df1.columns = new_cols"
   ]
  },
  {
   "cell_type": "markdown",
   "id": "62503bd3",
   "metadata": {
    "hidden": true
   },
   "source": [
    "### 3.2 Informações dos dados"
   ]
  },
  {
   "cell_type": "code",
   "execution_count": 26,
   "id": "71dc4a37",
   "metadata": {
    "hidden": true
   },
   "outputs": [
    {
     "data": {
      "text/plain": [
       "(1017209, 18)"
      ]
     },
     "execution_count": 26,
     "metadata": {},
     "output_type": "execute_result"
    }
   ],
   "source": [
    "df1.shape"
   ]
  },
  {
   "cell_type": "code",
   "execution_count": 45,
   "id": "b9ba70fc",
   "metadata": {
    "hidden": true
   },
   "outputs": [
    {
     "data": {
      "text/plain": [
       "store                                    int64\n",
       "day_of_week                              int64\n",
       "date                            datetime64[ns]\n",
       "sales                                    int64\n",
       "customers                                int64\n",
       "open                                     int64\n",
       "promo                                    int64\n",
       "state_holiday                           object\n",
       "school_holiday                           int64\n",
       "store_type                              object\n",
       "assortment                              object\n",
       "competition_distance                   float64\n",
       "competition_open_since_month           float64\n",
       "competition_open_since_year            float64\n",
       "promo2                                   int64\n",
       "promo2_since_week                      float64\n",
       "promo2_since_year                      float64\n",
       "promo_interval                          object\n",
       "dtype: object"
      ]
     },
     "execution_count": 45,
     "metadata": {},
     "output_type": "execute_result"
    }
   ],
   "source": [
    "df1['date'] = pd.to_datetime(df1['date'])\n",
    "df1.dtypes"
   ]
  },
  {
   "cell_type": "code",
   "execution_count": 46,
   "id": "5fc17b5e",
   "metadata": {
    "hidden": true,
    "scrolled": true
   },
   "outputs": [
    {
     "data": {
      "text/plain": [
       "store                                0\n",
       "day_of_week                          0\n",
       "date                                 0\n",
       "sales                                0\n",
       "customers                            0\n",
       "open                                 0\n",
       "promo                                0\n",
       "state_holiday                        0\n",
       "school_holiday                       0\n",
       "store_type                           0\n",
       "assortment                           0\n",
       "competition_distance              2642\n",
       "competition_open_since_month    323348\n",
       "competition_open_since_year     323348\n",
       "promo2                               0\n",
       "promo2_since_week               508031\n",
       "promo2_since_year               508031\n",
       "promo_interval                  508031\n",
       "dtype: int64"
      ]
     },
     "execution_count": 46,
     "metadata": {},
     "output_type": "execute_result"
    }
   ],
   "source": [
    "df1.isna().sum()"
   ]
  },
  {
   "cell_type": "markdown",
   "id": "263d4c18",
   "metadata": {
    "hidden": true
   },
   "source": [
    "### 3.3 Preenchimento dos NA"
   ]
  },
  {
   "cell_type": "code",
   "execution_count": 47,
   "id": "c53284b7",
   "metadata": {
    "hidden": true
   },
   "outputs": [],
   "source": [
    "#competition_distance: A premissa adotada é que  não existem competidores próximos da loja, de forma que substituiremos \n",
    "                        #os valores NA por valores muito altos\n",
    "df1['competition_distance'] = df1['competition_distance'].apply(lambda x: 200000.00 if pd.isna(x) else x)\n",
    "\n",
    "#competition_open_since_month: A premissa adotada é manter as linhas NA, porém usar o mês da venda daquela loja como data da\n",
    "                                # abertura da concorrente.\n",
    "df1['competition_open_since_month'] = df1.apply(lambda x: x['date'].month if pd.isna(x['competition_open_since_month']) else x['competition_open_since_month'], axis=1)\n",
    "\n",
    "#competition_open_since_year: A premissa adotada é manter as linhas NA, porém usar o mês da venda daquela loja como data da\n",
    "                                # abertura da concorrente.\n",
    "df1['competition_open_since_year'] = df1.apply(lambda x: x['date'].year if pd.isna(x['competition_open_since_year']) else x['competition_open_since_year'], axis=1)\n",
    "\n",
    "#promo2_since_week \n",
    "df1['promo2_since_week'] = df1.apply(lambda x: x['date'].week if pd.isna(x['promo2_since_week']) else x['promo2_since_week'], axis=1)\n",
    "\n",
    "#promo2_since_year           \n",
    "df1['promo2_since_year'] = df1.apply(lambda x: x['date'].year if pd.isna(x['promo2_since_year']) else x['promo2_since_year'], axis=1)\n",
    "\n",
    "#promo_interval\n",
    "month_map = {1:'Jan',2:'Fev',3:'Mar',4:'Apr',5:'May',6:'Jun',7:'Jul',8:'Aug',9:'Sep',10:'Oct',11:'Nov',12:'Dec'}\n",
    "df1['promo_interval'].fillna(0, inplace = True)\n",
    "df1['month_map'] = df1['date'].dt.month.map(month_map)\n",
    "df1['is_promo_2'] = df1[['promo_interval', 'month_map']].apply(lambda x: 0 if x['promo_interval'] == 0 else 1 if x['month_map'] in x['promo_interval'].split(',') else 0, axis=1)"
   ]
  },
  {
   "cell_type": "code",
   "execution_count": 51,
   "id": "41763ced",
   "metadata": {
    "hidden": true
   },
   "outputs": [
    {
     "data": {
      "text/plain": [
       "store                                    int64\n",
       "day_of_week                              int64\n",
       "date                            datetime64[ns]\n",
       "sales                                    int64\n",
       "customers                                int64\n",
       "open                                     int64\n",
       "promo                                    int64\n",
       "state_holiday                           object\n",
       "school_holiday                           int64\n",
       "store_type                              object\n",
       "assortment                              object\n",
       "competition_distance                   float64\n",
       "competition_open_since_month             int32\n",
       "competition_open_since_year              int32\n",
       "promo2                                   int64\n",
       "promo2_since_week                        int32\n",
       "promo2_since_year                        int32\n",
       "promo_interval                          object\n",
       "month_map                               object\n",
       "is_promo_2                               int64\n",
       "dtype: object"
      ]
     },
     "execution_count": 51,
     "metadata": {},
     "output_type": "execute_result"
    }
   ],
   "source": [
    "df1.dtypes"
   ]
  },
  {
   "cell_type": "code",
   "execution_count": 53,
   "id": "3af123d5",
   "metadata": {
    "hidden": true
   },
   "outputs": [],
   "source": [
    "df1['competition_open_since_month'] = df1['competition_open_since_month'].astype(int)\n",
    "df1['competition_open_since_year'] = df1['competition_open_since_year'].astype(int)\n",
    "df1['promo2_since_week'] = df1['promo2_since_week'].astype(int)\n",
    "df1['promo2_since_year'] = df1['promo2_since_year'].astype(int)"
   ]
  },
  {
   "cell_type": "markdown",
   "id": "4eb38644",
   "metadata": {
    "hidden": true
   },
   "source": [
    "### 3.4 Estátistica Descritiva"
   ]
  },
  {
   "cell_type": "code",
   "execution_count": 66,
   "id": "a0b4323b",
   "metadata": {
    "hidden": true
   },
   "outputs": [
    {
     "data": {
      "text/html": [
       "<div>\n",
       "<style scoped>\n",
       "    .dataframe tbody tr th:only-of-type {\n",
       "        vertical-align: middle;\n",
       "    }\n",
       "\n",
       "    .dataframe tbody tr th {\n",
       "        vertical-align: top;\n",
       "    }\n",
       "\n",
       "    .dataframe thead th {\n",
       "        text-align: right;\n",
       "    }\n",
       "</style>\n",
       "<table border=\"1\" class=\"dataframe\">\n",
       "  <thead>\n",
       "    <tr style=\"text-align: right;\">\n",
       "      <th></th>\n",
       "      <th>store</th>\n",
       "      <th>day_of_week</th>\n",
       "      <th>date</th>\n",
       "      <th>sales</th>\n",
       "      <th>customers</th>\n",
       "      <th>open</th>\n",
       "      <th>promo</th>\n",
       "      <th>school_holiday</th>\n",
       "      <th>competition_distance</th>\n",
       "      <th>competition_open_since_month</th>\n",
       "      <th>competition_open_since_year</th>\n",
       "      <th>promo2</th>\n",
       "      <th>promo2_since_week</th>\n",
       "      <th>promo2_since_year</th>\n",
       "      <th>is_promo_2</th>\n",
       "    </tr>\n",
       "  </thead>\n",
       "  <tbody>\n",
       "    <tr>\n",
       "      <th>count</th>\n",
       "      <td>1017209.00000</td>\n",
       "      <td>1017209.00000</td>\n",
       "      <td>1017209.00000</td>\n",
       "      <td>1017209.00000</td>\n",
       "      <td>1017209.00000</td>\n",
       "      <td>1017209.00000</td>\n",
       "      <td>1017209.00000</td>\n",
       "      <td>1017209.00000</td>\n",
       "      <td>1017209.00000</td>\n",
       "      <td>1017209.00000</td>\n",
       "      <td>1017209.00000</td>\n",
       "      <td>1017209.00000</td>\n",
       "      <td>1017209.00000</td>\n",
       "      <td>1017209.00000</td>\n",
       "      <td>1017209.00000</td>\n",
       "    </tr>\n",
       "    <tr>\n",
       "      <th>mean</th>\n",
       "      <td>558.42973</td>\n",
       "      <td>3.99834</td>\n",
       "      <td>.5f</td>\n",
       "      <td>5773.81897</td>\n",
       "      <td>633.14595</td>\n",
       "      <td>0.83011</td>\n",
       "      <td>0.38151</td>\n",
       "      <td>0.17865</td>\n",
       "      <td>5935.44268</td>\n",
       "      <td>6.78685</td>\n",
       "      <td>2010.32484</td>\n",
       "      <td>0.50056</td>\n",
       "      <td>23.61903</td>\n",
       "      <td>2012.79330</td>\n",
       "      <td>0.15523</td>\n",
       "    </tr>\n",
       "    <tr>\n",
       "      <th>min</th>\n",
       "      <td>1.00000</td>\n",
       "      <td>1.00000</td>\n",
       "      <td>.5f</td>\n",
       "      <td>0.00000</td>\n",
       "      <td>0.00000</td>\n",
       "      <td>0.00000</td>\n",
       "      <td>0.00000</td>\n",
       "      <td>0.00000</td>\n",
       "      <td>20.00000</td>\n",
       "      <td>1.00000</td>\n",
       "      <td>1900.00000</td>\n",
       "      <td>0.00000</td>\n",
       "      <td>1.00000</td>\n",
       "      <td>2009.00000</td>\n",
       "      <td>0.00000</td>\n",
       "    </tr>\n",
       "    <tr>\n",
       "      <th>25%</th>\n",
       "      <td>280.00000</td>\n",
       "      <td>2.00000</td>\n",
       "      <td>.5f</td>\n",
       "      <td>3727.00000</td>\n",
       "      <td>405.00000</td>\n",
       "      <td>1.00000</td>\n",
       "      <td>0.00000</td>\n",
       "      <td>0.00000</td>\n",
       "      <td>710.00000</td>\n",
       "      <td>4.00000</td>\n",
       "      <td>2008.00000</td>\n",
       "      <td>0.00000</td>\n",
       "      <td>12.00000</td>\n",
       "      <td>2012.00000</td>\n",
       "      <td>0.00000</td>\n",
       "    </tr>\n",
       "    <tr>\n",
       "      <th>50%</th>\n",
       "      <td>558.00000</td>\n",
       "      <td>4.00000</td>\n",
       "      <td>.5f</td>\n",
       "      <td>5744.00000</td>\n",
       "      <td>609.00000</td>\n",
       "      <td>1.00000</td>\n",
       "      <td>0.00000</td>\n",
       "      <td>0.00000</td>\n",
       "      <td>2330.00000</td>\n",
       "      <td>7.00000</td>\n",
       "      <td>2012.00000</td>\n",
       "      <td>1.00000</td>\n",
       "      <td>22.00000</td>\n",
       "      <td>2013.00000</td>\n",
       "      <td>0.00000</td>\n",
       "    </tr>\n",
       "    <tr>\n",
       "      <th>75%</th>\n",
       "      <td>838.00000</td>\n",
       "      <td>6.00000</td>\n",
       "      <td>.5f</td>\n",
       "      <td>7856.00000</td>\n",
       "      <td>837.00000</td>\n",
       "      <td>1.00000</td>\n",
       "      <td>1.00000</td>\n",
       "      <td>0.00000</td>\n",
       "      <td>6910.00000</td>\n",
       "      <td>10.00000</td>\n",
       "      <td>2014.00000</td>\n",
       "      <td>1.00000</td>\n",
       "      <td>37.00000</td>\n",
       "      <td>2014.00000</td>\n",
       "      <td>0.00000</td>\n",
       "    </tr>\n",
       "    <tr>\n",
       "      <th>max</th>\n",
       "      <td>1115.00000</td>\n",
       "      <td>7.00000</td>\n",
       "      <td>.5f</td>\n",
       "      <td>41551.00000</td>\n",
       "      <td>7388.00000</td>\n",
       "      <td>1.00000</td>\n",
       "      <td>1.00000</td>\n",
       "      <td>1.00000</td>\n",
       "      <td>200000.00000</td>\n",
       "      <td>12.00000</td>\n",
       "      <td>2015.00000</td>\n",
       "      <td>1.00000</td>\n",
       "      <td>52.00000</td>\n",
       "      <td>2015.00000</td>\n",
       "      <td>1.00000</td>\n",
       "    </tr>\n",
       "    <tr>\n",
       "      <th>std</th>\n",
       "      <td>321.90865</td>\n",
       "      <td>1.99739</td>\n",
       "      <td>nan</td>\n",
       "      <td>3849.92618</td>\n",
       "      <td>464.41173</td>\n",
       "      <td>0.37554</td>\n",
       "      <td>0.48576</td>\n",
       "      <td>0.38306</td>\n",
       "      <td>12547.65300</td>\n",
       "      <td>3.31109</td>\n",
       "      <td>5.51559</td>\n",
       "      <td>0.50000</td>\n",
       "      <td>14.31006</td>\n",
       "      <td>1.66266</td>\n",
       "      <td>0.36212</td>\n",
       "    </tr>\n",
       "  </tbody>\n",
       "</table>\n",
       "</div>"
      ],
      "text/plain": [
       "               store    day_of_week           date          sales  \\\n",
       "count  1017209.00000  1017209.00000  1017209.00000  1017209.00000   \n",
       "mean       558.42973        3.99834            .5f     5773.81897   \n",
       "min          1.00000        1.00000            .5f        0.00000   \n",
       "25%        280.00000        2.00000            .5f     3727.00000   \n",
       "50%        558.00000        4.00000            .5f     5744.00000   \n",
       "75%        838.00000        6.00000            .5f     7856.00000   \n",
       "max       1115.00000        7.00000            .5f    41551.00000   \n",
       "std        321.90865        1.99739            nan     3849.92618   \n",
       "\n",
       "           customers           open          promo school_holiday  \\\n",
       "count  1017209.00000  1017209.00000  1017209.00000  1017209.00000   \n",
       "mean       633.14595        0.83011        0.38151        0.17865   \n",
       "min          0.00000        0.00000        0.00000        0.00000   \n",
       "25%        405.00000        1.00000        0.00000        0.00000   \n",
       "50%        609.00000        1.00000        0.00000        0.00000   \n",
       "75%        837.00000        1.00000        1.00000        0.00000   \n",
       "max       7388.00000        1.00000        1.00000        1.00000   \n",
       "std        464.41173        0.37554        0.48576        0.38306   \n",
       "\n",
       "      competition_distance competition_open_since_month  \\\n",
       "count        1017209.00000                1017209.00000   \n",
       "mean            5935.44268                      6.78685   \n",
       "min               20.00000                      1.00000   \n",
       "25%              710.00000                      4.00000   \n",
       "50%             2330.00000                      7.00000   \n",
       "75%             6910.00000                     10.00000   \n",
       "max           200000.00000                     12.00000   \n",
       "std            12547.65300                      3.31109   \n",
       "\n",
       "      competition_open_since_year         promo2 promo2_since_week  \\\n",
       "count               1017209.00000  1017209.00000     1017209.00000   \n",
       "mean                   2010.32484        0.50056          23.61903   \n",
       "min                    1900.00000        0.00000           1.00000   \n",
       "25%                    2008.00000        0.00000          12.00000   \n",
       "50%                    2012.00000        1.00000          22.00000   \n",
       "75%                    2014.00000        1.00000          37.00000   \n",
       "max                    2015.00000        1.00000          52.00000   \n",
       "std                       5.51559        0.50000          14.31006   \n",
       "\n",
       "      promo2_since_year     is_promo_2  \n",
       "count     1017209.00000  1017209.00000  \n",
       "mean         2012.79330        0.15523  \n",
       "min          2009.00000        0.00000  \n",
       "25%          2012.00000        0.00000  \n",
       "50%          2013.00000        0.00000  \n",
       "75%          2014.00000        0.00000  \n",
       "max          2015.00000        1.00000  \n",
       "std             1.66266        0.36212  "
      ]
     },
     "execution_count": 66,
     "metadata": {},
     "output_type": "execute_result"
    }
   ],
   "source": [
    "df1.describe(exclude=('object0'), datetime_is_numeric=True).apply(lambda s: s.apply('{0:.5f}'.format))"
   ]
  },
  {
   "cell_type": "code",
   "execution_count": 56,
   "id": "8c9de0a0",
   "metadata": {
    "hidden": true,
    "scrolled": true
   },
   "outputs": [
    {
     "data": {
      "text/plain": [
       "store                           -0.000955\n",
       "day_of_week                      0.001593\n",
       "sales                            0.641460\n",
       "customers                        1.598650\n",
       "open                            -1.758045\n",
       "promo                            0.487838\n",
       "school_holiday                   1.677842\n",
       "competition_distance            10.242344\n",
       "competition_open_since_month    -0.042076\n",
       "competition_open_since_year     -7.235657\n",
       "promo2                          -0.002255\n",
       "promo2_since_week                0.178723\n",
       "promo2_since_year               -0.784436\n",
       "is_promo_2                       1.904152\n",
       "dtype: float64"
      ]
     },
     "execution_count": 56,
     "metadata": {},
     "output_type": "execute_result"
    }
   ],
   "source": [
    "df1.skew(numeric_only=True)"
   ]
  },
  {
   "cell_type": "code",
   "execution_count": 61,
   "id": "58fdb57b",
   "metadata": {
    "hidden": true
   },
   "outputs": [
    {
     "data": {
      "text/plain": [
       "store                            -1.200524\n",
       "day_of_week                      -1.246873\n",
       "sales                             1.778375\n",
       "customers                         7.091773\n",
       "open                              1.090723\n",
       "promo                            -1.762018\n",
       "school_holiday                    0.815154\n",
       "competition_distance            147.789712\n",
       "competition_open_since_month     -1.232607\n",
       "competition_open_since_year     124.071304\n",
       "promo2                           -1.999999\n",
       "promo2_since_week                -1.184046\n",
       "promo2_since_year                -0.210075\n",
       "is_promo_2                        1.625796\n",
       "dtype: float64"
      ]
     },
     "execution_count": 61,
     "metadata": {},
     "output_type": "execute_result"
    }
   ],
   "source": [
    "df1.kurtosis(numeric_only=True)"
   ]
  },
  {
   "cell_type": "markdown",
   "id": "35a1754d",
   "metadata": {},
   "source": [
    "## 4.0 Criação de Features"
   ]
  },
  {
   "cell_type": "code",
   "execution_count": 70,
   "id": "a88b09aa",
   "metadata": {},
   "outputs": [],
   "source": [
    "df2 = df1.copy()"
   ]
  },
  {
   "cell_type": "markdown",
   "id": "5b1f8bc7",
   "metadata": {},
   "source": [
    "### 4.1 Mapa mental de Hipóteses"
   ]
  },
  {
   "cell_type": "code",
   "execution_count": 69,
   "id": "109acf61",
   "metadata": {},
   "outputs": [
    {
     "data": {
      "image/png": "[encoded data removed]",
      "text/plain": [
       "<IPython.core.display.Image object>"
      ]
     },
     "execution_count": 69,
     "metadata": {},
     "output_type": "execute_result"
    }
   ],
   "source": [
    "Image('img/Vendas_das_Lojas.png')"
   ]
  },
  {
   "cell_type": "markdown",
   "id": "c5071a08",
   "metadata": {},
   "source": [
    "### 4.2 Criação de Hipóteses"
   ]
  },
  {
   "cell_type": "markdown",
   "id": "534eb06d",
   "metadata": {},
   "source": [
    "#### Hipóteses de Sazonalidade"
   ]
  },
  {
   "cell_type": "markdown",
   "id": "d41c5e83",
   "metadata": {},
   "source": [
    "**1.** Ocorrem mais vendas no inverno.\n",
    "\n",
    "**2.** Ocorrem menos vendas no fim de semana.\n",
    "\n",
    "**3.** As vendas crescem anualmente.\n",
    "\n",
    "**4.** As vendas diminuem em feriados."
   ]
  },
  {
   "cell_type": "markdown",
   "id": "049e8a57",
   "metadata": {},
   "source": [
    "#### Hipóteses de Produto"
   ]
  },
  {
   "cell_type": "markdown",
   "id": "52dc7a47",
   "metadata": {},
   "source": [
    "**1.** Lojas com mais estoque vendem mais.\n",
    "\n",
    "**2.** Lojas com itens em promoção vendem mais.\n",
    "\n",
    "**3.** Lojas com promoções consecutivas vendem mais.\n",
    "\n",
    "**4.** Lojas com menor variedade de produtos vendem menos.\n",
    "\n",
    "**5.** Lojas com determinado padrão de exposição de produtos vendem mais."
   ]
  },
  {
   "cell_type": "markdown",
   "id": "ebcf61fc",
   "metadata": {},
   "source": [
    "#### Hipóteses de Loja"
   ]
  },
  {
   "cell_type": "markdown",
   "id": "b7c785e6",
   "metadata": {},
   "source": [
    "**1.** Lojas com concorrentes mais próximos vendem menos.\n",
    "\n",
    "**2.** Lojas maiores vendem mais.\n",
    "\n",
    "**3.** Lojas proximas a hospitais vendem mais.\n",
    "\n",
    "**4.** Os tipos de loja influênciam na quantidade de vendas."
   ]
  },
  {
   "cell_type": "markdown",
   "id": "713b29cc",
   "metadata": {},
   "source": [
    "#### Hipóteses de Clientes"
   ]
  },
  {
   "cell_type": "markdown",
   "id": "f079b2b5",
   "metadata": {},
   "source": [
    "**1.** Clientes mais velhos compram mais.\n",
    "\n",
    "**2.** Clientes que moram mais perto compram mais.\n",
    "\n",
    "**3.** Clientes com mais filhos compram mais.\n",
    "\n",
    "**4.** Clientes com determinado emprego compram menos.\n",
    "\n",
    "**5.** Quanto maior número de clientes maior as vendas."
   ]
  },
  {
   "cell_type": "markdown",
   "id": "fc7771d2",
   "metadata": {},
   "source": [
    "#### Lista final de hipóteses a serem validadas"
   ]
  },
  {
   "cell_type": "markdown",
   "id": "1a6530aa",
   "metadata": {},
   "source": [
    "**1.** Ocorrem mais vendas no inverno.\n",
    "\n",
    "**2.** Ocorrem menos vendas no fim de semana.\n",
    "\n",
    "**3.** As vendas crescem anualmente.\n",
    "\n",
    "**4.** As vendas diminuem em feriados.\n",
    "\n",
    "**5.** Lojas com itens em promoção vendem mais.\n",
    "\n",
    "**6.** Lojas com promoções consecutivas vendem mais.\n",
    "\n",
    "**7.** Lojas com menor variedade de produtos vendem menos. _Hipótese alterada para tipo de Sortimento, devido aos dados que possuimos neste dataset._\n",
    "\n",
    "**8.** Lojas com concorrentes mais próximos vendem menos.\n",
    "\n",
    "**9.** Os tipos de loja influênciam na quantidade de vendas.\n",
    "\n",
    "**10.** Quanto maior número de clientes maior as vendas."
   ]
  },
  {
   "cell_type": "markdown",
   "id": "21ba7d70",
   "metadata": {},
   "source": [
    "### Feature Engineering"
   ]
  },
  {
   "cell_type": "code",
   "execution_count": 111,
   "id": "6b4c5dcc",
   "metadata": {
    "scrolled": true
   },
   "outputs": [],
   "source": [
    "#year\n",
    "df2['year'] = df2['date'].dt.year\n",
    "\n",
    "#month\n",
    "df2['month'] = df2['date'].dt.month\n",
    "\n",
    "#day\n",
    "df2['day'] = df2['date'].dt.day\n",
    "\n",
    "#week_of_year\n",
    "df2['week_of_year'] = df2['date'].dt.isocalendar().week\n",
    "\n",
    "#year_week\n",
    "df2['year_week'] = df2['date'].dt.strftime(\"%Y-%W\")\n",
    "\n",
    "#competition_since\n",
    "df2['competition_since'] = df2.apply( lambda x: datetime.datetime(year=x['competition_open_since_year'],month=x['competition_open_since_month'],day=1 ), axis=1 )\n",
    "df2['competition_time_month'] = ( ( df2['date'] - df2['competition_since'] )/30).apply( lambda x: x.days ).astype( int )\n",
    "\n",
    "#promo2_since\n",
    "df2['promo2_since'] = df2['promo2_since_year'].astype( str ) + '-' + df2['promo2_since_week'].astype( str )\n",
    "df2['promo2_since'] = df2['promo2_since'].apply( lambda x: datetime.datetime.strptime( x + '-1', '%Y-%W-%w' ) - datetime.timedelta( days=7 ) )\n",
    "df2['promo_time_week'] = ( ( df2['date'] - df2['promo2_since'] )/7 ).apply(lambda x: x.days ).astype( int )\n",
    "\n",
    "#assortment\n",
    "df2['assortment'] = df2['assortment'].apply( lambda x: 'basic' if x == 'a' else 'extra' if x == 'b' else 'extended' )\n",
    "\n",
    "#state_holiday\n",
    "df2['state_holiday'] = df2['state_holiday'].apply( lambda x: 'public_holiday' if x == 'a' else 'easter_holiday' if x == 'b' else 'christmas' if x == 'c' else 'regular_day' )\n",
    "\n",
    "#season\n",
    "spring = range(80, 172)\n",
    "summer = range(172, 264)\n",
    "fall = range(264, 355)\n",
    "df2['season'] = df2['date'].apply(lambda x: 'spring' if x.timetuple().tm_yday in spring else 'summer' if x.timetuple().tm_yday in summer else 'fall' if x.timetuple().tm_yday in fall else 'winter' )\n"
   ]
  },
  {
   "cell_type": "code",
   "execution_count": 112,
   "id": "373331c8",
   "metadata": {},
   "outputs": [
    {
     "data": {
      "text/html": [
       "<div>\n",
       "<style scoped>\n",
       "    .dataframe tbody tr th:only-of-type {\n",
       "        vertical-align: middle;\n",
       "    }\n",
       "\n",
       "    .dataframe tbody tr th {\n",
       "        vertical-align: top;\n",
       "    }\n",
       "\n",
       "    .dataframe thead th {\n",
       "        text-align: right;\n",
       "    }\n",
       "</style>\n",
       "<table border=\"1\" class=\"dataframe\">\n",
       "  <thead>\n",
       "    <tr style=\"text-align: right;\">\n",
       "      <th></th>\n",
       "      <th>store</th>\n",
       "      <th>day_of_week</th>\n",
       "      <th>date</th>\n",
       "      <th>sales</th>\n",
       "      <th>customers</th>\n",
       "      <th>open</th>\n",
       "      <th>promo</th>\n",
       "      <th>state_holiday</th>\n",
       "      <th>school_holiday</th>\n",
       "      <th>store_type</th>\n",
       "      <th>...</th>\n",
       "      <th>year</th>\n",
       "      <th>month</th>\n",
       "      <th>day</th>\n",
       "      <th>week_of_year</th>\n",
       "      <th>year_week</th>\n",
       "      <th>competition_since</th>\n",
       "      <th>competition_time_month</th>\n",
       "      <th>promo2_since</th>\n",
       "      <th>promo_time_week</th>\n",
       "      <th>season</th>\n",
       "    </tr>\n",
       "  </thead>\n",
       "  <tbody>\n",
       "    <tr>\n",
       "      <th>0</th>\n",
       "      <td>1</td>\n",
       "      <td>5</td>\n",
       "      <td>2015-07-31</td>\n",
       "      <td>5263</td>\n",
       "      <td>555</td>\n",
       "      <td>1</td>\n",
       "      <td>1</td>\n",
       "      <td>regular_day</td>\n",
       "      <td>1</td>\n",
       "      <td>c</td>\n",
       "      <td>...</td>\n",
       "      <td>2015</td>\n",
       "      <td>7</td>\n",
       "      <td>31</td>\n",
       "      <td>31</td>\n",
       "      <td>2015-30</td>\n",
       "      <td>2008-09-01</td>\n",
       "      <td>84</td>\n",
       "      <td>2015-07-27</td>\n",
       "      <td>0</td>\n",
       "      <td>summer</td>\n",
       "    </tr>\n",
       "    <tr>\n",
       "      <th>1</th>\n",
       "      <td>2</td>\n",
       "      <td>5</td>\n",
       "      <td>2015-07-31</td>\n",
       "      <td>6064</td>\n",
       "      <td>625</td>\n",
       "      <td>1</td>\n",
       "      <td>1</td>\n",
       "      <td>regular_day</td>\n",
       "      <td>1</td>\n",
       "      <td>a</td>\n",
       "      <td>...</td>\n",
       "      <td>2015</td>\n",
       "      <td>7</td>\n",
       "      <td>31</td>\n",
       "      <td>31</td>\n",
       "      <td>2015-30</td>\n",
       "      <td>2007-11-01</td>\n",
       "      <td>94</td>\n",
       "      <td>2010-03-22</td>\n",
       "      <td>279</td>\n",
       "      <td>summer</td>\n",
       "    </tr>\n",
       "    <tr>\n",
       "      <th>2</th>\n",
       "      <td>3</td>\n",
       "      <td>5</td>\n",
       "      <td>2015-07-31</td>\n",
       "      <td>8314</td>\n",
       "      <td>821</td>\n",
       "      <td>1</td>\n",
       "      <td>1</td>\n",
       "      <td>regular_day</td>\n",
       "      <td>1</td>\n",
       "      <td>a</td>\n",
       "      <td>...</td>\n",
       "      <td>2015</td>\n",
       "      <td>7</td>\n",
       "      <td>31</td>\n",
       "      <td>31</td>\n",
       "      <td>2015-30</td>\n",
       "      <td>2006-12-01</td>\n",
       "      <td>105</td>\n",
       "      <td>2011-03-28</td>\n",
       "      <td>226</td>\n",
       "      <td>summer</td>\n",
       "    </tr>\n",
       "    <tr>\n",
       "      <th>3</th>\n",
       "      <td>4</td>\n",
       "      <td>5</td>\n",
       "      <td>2015-07-31</td>\n",
       "      <td>13995</td>\n",
       "      <td>1498</td>\n",
       "      <td>1</td>\n",
       "      <td>1</td>\n",
       "      <td>regular_day</td>\n",
       "      <td>1</td>\n",
       "      <td>c</td>\n",
       "      <td>...</td>\n",
       "      <td>2015</td>\n",
       "      <td>7</td>\n",
       "      <td>31</td>\n",
       "      <td>31</td>\n",
       "      <td>2015-30</td>\n",
       "      <td>2009-09-01</td>\n",
       "      <td>71</td>\n",
       "      <td>2015-07-27</td>\n",
       "      <td>0</td>\n",
       "      <td>summer</td>\n",
       "    </tr>\n",
       "    <tr>\n",
       "      <th>4</th>\n",
       "      <td>5</td>\n",
       "      <td>5</td>\n",
       "      <td>2015-07-31</td>\n",
       "      <td>4822</td>\n",
       "      <td>559</td>\n",
       "      <td>1</td>\n",
       "      <td>1</td>\n",
       "      <td>regular_day</td>\n",
       "      <td>1</td>\n",
       "      <td>a</td>\n",
       "      <td>...</td>\n",
       "      <td>2015</td>\n",
       "      <td>7</td>\n",
       "      <td>31</td>\n",
       "      <td>31</td>\n",
       "      <td>2015-30</td>\n",
       "      <td>2015-04-01</td>\n",
       "      <td>4</td>\n",
       "      <td>2015-07-27</td>\n",
       "      <td>0</td>\n",
       "      <td>summer</td>\n",
       "    </tr>\n",
       "    <tr>\n",
       "      <th>...</th>\n",
       "      <td>...</td>\n",
       "      <td>...</td>\n",
       "      <td>...</td>\n",
       "      <td>...</td>\n",
       "      <td>...</td>\n",
       "      <td>...</td>\n",
       "      <td>...</td>\n",
       "      <td>...</td>\n",
       "      <td>...</td>\n",
       "      <td>...</td>\n",
       "      <td>...</td>\n",
       "      <td>...</td>\n",
       "      <td>...</td>\n",
       "      <td>...</td>\n",
       "      <td>...</td>\n",
       "      <td>...</td>\n",
       "      <td>...</td>\n",
       "      <td>...</td>\n",
       "      <td>...</td>\n",
       "      <td>...</td>\n",
       "      <td>...</td>\n",
       "    </tr>\n",
       "    <tr>\n",
       "      <th>1017204</th>\n",
       "      <td>1111</td>\n",
       "      <td>2</td>\n",
       "      <td>2013-01-01</td>\n",
       "      <td>0</td>\n",
       "      <td>0</td>\n",
       "      <td>0</td>\n",
       "      <td>0</td>\n",
       "      <td>regular_day</td>\n",
       "      <td>1</td>\n",
       "      <td>a</td>\n",
       "      <td>...</td>\n",
       "      <td>2013</td>\n",
       "      <td>1</td>\n",
       "      <td>1</td>\n",
       "      <td>1</td>\n",
       "      <td>2013-00</td>\n",
       "      <td>2014-06-01</td>\n",
       "      <td>-18</td>\n",
       "      <td>2013-07-29</td>\n",
       "      <td>-30</td>\n",
       "      <td>winter</td>\n",
       "    </tr>\n",
       "    <tr>\n",
       "      <th>1017205</th>\n",
       "      <td>1112</td>\n",
       "      <td>2</td>\n",
       "      <td>2013-01-01</td>\n",
       "      <td>0</td>\n",
       "      <td>0</td>\n",
       "      <td>0</td>\n",
       "      <td>0</td>\n",
       "      <td>regular_day</td>\n",
       "      <td>1</td>\n",
       "      <td>c</td>\n",
       "      <td>...</td>\n",
       "      <td>2013</td>\n",
       "      <td>1</td>\n",
       "      <td>1</td>\n",
       "      <td>1</td>\n",
       "      <td>2013-00</td>\n",
       "      <td>2006-04-01</td>\n",
       "      <td>82</td>\n",
       "      <td>2012-12-31</td>\n",
       "      <td>0</td>\n",
       "      <td>winter</td>\n",
       "    </tr>\n",
       "    <tr>\n",
       "      <th>1017206</th>\n",
       "      <td>1113</td>\n",
       "      <td>2</td>\n",
       "      <td>2013-01-01</td>\n",
       "      <td>0</td>\n",
       "      <td>0</td>\n",
       "      <td>0</td>\n",
       "      <td>0</td>\n",
       "      <td>regular_day</td>\n",
       "      <td>1</td>\n",
       "      <td>a</td>\n",
       "      <td>...</td>\n",
       "      <td>2013</td>\n",
       "      <td>1</td>\n",
       "      <td>1</td>\n",
       "      <td>1</td>\n",
       "      <td>2013-00</td>\n",
       "      <td>2013-01-01</td>\n",
       "      <td>0</td>\n",
       "      <td>2012-12-31</td>\n",
       "      <td>0</td>\n",
       "      <td>winter</td>\n",
       "    </tr>\n",
       "    <tr>\n",
       "      <th>1017207</th>\n",
       "      <td>1114</td>\n",
       "      <td>2</td>\n",
       "      <td>2013-01-01</td>\n",
       "      <td>0</td>\n",
       "      <td>0</td>\n",
       "      <td>0</td>\n",
       "      <td>0</td>\n",
       "      <td>regular_day</td>\n",
       "      <td>1</td>\n",
       "      <td>a</td>\n",
       "      <td>...</td>\n",
       "      <td>2013</td>\n",
       "      <td>1</td>\n",
       "      <td>1</td>\n",
       "      <td>1</td>\n",
       "      <td>2013-00</td>\n",
       "      <td>2013-01-01</td>\n",
       "      <td>0</td>\n",
       "      <td>2012-12-31</td>\n",
       "      <td>0</td>\n",
       "      <td>winter</td>\n",
       "    </tr>\n",
       "    <tr>\n",
       "      <th>1017208</th>\n",
       "      <td>1115</td>\n",
       "      <td>2</td>\n",
       "      <td>2013-01-01</td>\n",
       "      <td>0</td>\n",
       "      <td>0</td>\n",
       "      <td>0</td>\n",
       "      <td>0</td>\n",
       "      <td>regular_day</td>\n",
       "      <td>1</td>\n",
       "      <td>d</td>\n",
       "      <td>...</td>\n",
       "      <td>2013</td>\n",
       "      <td>1</td>\n",
       "      <td>1</td>\n",
       "      <td>1</td>\n",
       "      <td>2013-00</td>\n",
       "      <td>2013-01-01</td>\n",
       "      <td>0</td>\n",
       "      <td>2012-05-21</td>\n",
       "      <td>32</td>\n",
       "      <td>winter</td>\n",
       "    </tr>\n",
       "  </tbody>\n",
       "</table>\n",
       "<p>1017209 rows × 30 columns</p>\n",
       "</div>"
      ],
      "text/plain": [
       "         store  day_of_week       date  sales  customers  open  promo  \\\n",
       "0            1            5 2015-07-31   5263        555     1      1   \n",
       "1            2            5 2015-07-31   6064        625     1      1   \n",
       "2            3            5 2015-07-31   8314        821     1      1   \n",
       "3            4            5 2015-07-31  13995       1498     1      1   \n",
       "4            5            5 2015-07-31   4822        559     1      1   \n",
       "...        ...          ...        ...    ...        ...   ...    ...   \n",
       "1017204   1111            2 2013-01-01      0          0     0      0   \n",
       "1017205   1112            2 2013-01-01      0          0     0      0   \n",
       "1017206   1113            2 2013-01-01      0          0     0      0   \n",
       "1017207   1114            2 2013-01-01      0          0     0      0   \n",
       "1017208   1115            2 2013-01-01      0          0     0      0   \n",
       "\n",
       "        state_holiday  school_holiday store_type  ...  year  month  day  \\\n",
       "0         regular_day               1          c  ...  2015      7   31   \n",
       "1         regular_day               1          a  ...  2015      7   31   \n",
       "2         regular_day               1          a  ...  2015      7   31   \n",
       "3         regular_day               1          c  ...  2015      7   31   \n",
       "4         regular_day               1          a  ...  2015      7   31   \n",
       "...               ...             ...        ...  ...   ...    ...  ...   \n",
       "1017204   regular_day               1          a  ...  2013      1    1   \n",
       "1017205   regular_day               1          c  ...  2013      1    1   \n",
       "1017206   regular_day               1          a  ...  2013      1    1   \n",
       "1017207   regular_day               1          a  ...  2013      1    1   \n",
       "1017208   regular_day               1          d  ...  2013      1    1   \n",
       "\n",
       "         week_of_year  year_week  competition_since  competition_time_month  \\\n",
       "0                  31    2015-30         2008-09-01                      84   \n",
       "1                  31    2015-30         2007-11-01                      94   \n",
       "2                  31    2015-30         2006-12-01                     105   \n",
       "3                  31    2015-30         2009-09-01                      71   \n",
       "4                  31    2015-30         2015-04-01                       4   \n",
       "...               ...        ...                ...                     ...   \n",
       "1017204             1    2013-00         2014-06-01                     -18   \n",
       "1017205             1    2013-00         2006-04-01                      82   \n",
       "1017206             1    2013-00         2013-01-01                       0   \n",
       "1017207             1    2013-00         2013-01-01                       0   \n",
       "1017208             1    2013-00         2013-01-01                       0   \n",
       "\n",
       "        promo2_since promo_time_week  season  \n",
       "0         2015-07-27               0  summer  \n",
       "1         2010-03-22             279  summer  \n",
       "2         2011-03-28             226  summer  \n",
       "3         2015-07-27               0  summer  \n",
       "4         2015-07-27               0  summer  \n",
       "...              ...             ...     ...  \n",
       "1017204   2013-07-29             -30  winter  \n",
       "1017205   2012-12-31               0  winter  \n",
       "1017206   2012-12-31               0  winter  \n",
       "1017207   2012-12-31               0  winter  \n",
       "1017208   2012-05-21              32  winter  \n",
       "\n",
       "[1017209 rows x 30 columns]"
      ]
     },
     "execution_count": 112,
     "metadata": {},
     "output_type": "execute_result"
    }
   ],
   "source": [
    "df2"
   ]
  },
  {
   "cell_type": "markdown",
   "id": "6fc56732",
   "metadata": {},
   "source": [
    "## 5.0 Filtragem de Variáveis "
   ]
  },
  {
   "cell_type": "code",
   "execution_count": 125,
   "id": "43139ac6",
   "metadata": {},
   "outputs": [],
   "source": [
    "df3 = df2.copy()"
   ]
  },
  {
   "cell_type": "code",
   "execution_count": 118,
   "id": "766a612d",
   "metadata": {},
   "outputs": [
    {
     "data": {
      "text/plain": [
       "Index(['store', 'day_of_week', 'date', 'sales', 'customers', 'open', 'promo',\n",
       "       'state_holiday', 'school_holiday', 'store_type', 'assortment',\n",
       "       'competition_distance', 'competition_open_since_month',\n",
       "       'competition_open_since_year', 'promo2', 'promo2_since_week',\n",
       "       'promo2_since_year', 'promo_interval', 'month_map', 'is_promo_2',\n",
       "       'year', 'month', 'day', 'week_of_year', 'year_week',\n",
       "       'competition_since', 'competition_time_month', 'promo2_since',\n",
       "       'promo_time_week', 'season'],\n",
       "      dtype='object')"
      ]
     },
     "execution_count": 118,
     "metadata": {},
     "output_type": "execute_result"
    }
   ],
   "source": [
    "df3.columns\n"
   ]
  },
  {
   "cell_type": "markdown",
   "id": "401fc573",
   "metadata": {},
   "source": [
    "### 5.1 Filtragem de Linhas"
   ]
  },
  {
   "cell_type": "code",
   "execution_count": 126,
   "id": "85663942",
   "metadata": {},
   "outputs": [],
   "source": [
    "#Filtrando linhas onde a loja está fechada e também onde as vendas foram 0\n",
    "df3 = df3[(df3['open'] != 0) & (df3['sales'] > 0)]"
   ]
  },
  {
   "cell_type": "markdown",
   "id": "58c95d9d",
   "metadata": {},
   "source": [
    "### 5.2 Seleção de Colunas"
   ]
  },
  {
   "cell_type": "code",
   "execution_count": 127,
   "id": "747f78d5",
   "metadata": {},
   "outputs": [],
   "source": [
    "#Filtrando colunas que não teremos no momento da previsão ou que foram colunas auxiliares na criação de váriaveis\n",
    "df3 = df3.drop(['customers','open','promo_interval','month_map'], axis=1)"
   ]
  }
 ],
 "metadata": {
  "kernelspec": {
   "display_name": "Python 3 (ipykernel)",
   "language": "python",
   "name": "python3"
  },
  "language_info": {
   "codemirror_mode": {
    "name": "ipython",
    "version": 3
   },
   "file_extension": ".py",
   "mimetype": "text/x-python",
   "name": "python",
   "nbconvert_exporter": "python",
   "pygments_lexer": "ipython3",
   "version": "3.10.11"
  }
 },
 "nbformat": 4,
 "nbformat_minor": 5
}
